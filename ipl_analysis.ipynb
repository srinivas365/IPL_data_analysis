{
 "cells": [
  {
   "cell_type": "code",
   "execution_count": 1,
   "metadata": {},
   "outputs": [
    {
     "data": {
      "application/javascript": [
       "IPython.OutputArea.prototype._should_scroll = function(lines) {\n",
       "    return false;\n",
       "}"
      ],
      "text/plain": [
       "<IPython.core.display.Javascript object>"
      ]
     },
     "metadata": {},
     "output_type": "display_data"
    }
   ],
   "source": [
    "%%javascript\n",
    "IPython.OutputArea.prototype._should_scroll = function(lines) {\n",
    "    return false;\n",
    "}"
   ]
  },
  {
   "cell_type": "markdown",
   "metadata": {},
   "source": [
    "# IPL Data Analysis in Python\n",
    "\n",
    "In this tutorial, We will see how to get started with Data Analysis in Python. The **Python packages** that we use in this notebook are:\n",
    "\n",
    "* `numpy`\n",
    "* `pandas`\n",
    "* `matplotlib`\n",
    "* `seaborn`\n",
    "\n",
    "The **dataset** that we use in this notebook is **IPL (Indian Premier League) Dataset** posted on **Kaggle Datasets**\n",
    "\n",
    "The following are the data sets used for IPL data analysis\n",
    "\n",
    "* `Ball_By_Ball.csv`\n",
    "* `Player.csv`\n",
    "* `Match.csv`\n",
    "\n",
    "![IPL](ipl_logo.jpg)"
   ]
  },
  {
   "cell_type": "markdown",
   "metadata": {},
   "source": [
    "### Questions:\n",
    "\n",
    "* Left-hand batsman count vs Right-hand batsman\n",
    "* How many players participated from each country?\n",
    "* How many bowlers are there belonging to different bowling skills?\n",
    "* How many run scored per ball in an over in whole ipl?\n",
    "* visualize different types of wickets_taken in whole ipl?\n",
    "* How many matches we've got in the dataset?\n",
    "* How many seasons we've got in the dataset?\n",
    "* Which Team had won by maximum runs?\n",
    "* Which Season had most number of matches?\n",
    "* Which IPL Team is more successful? \n",
    "* Has Toss-winning helped in winning matches?"
   ]
  },
  {
   "cell_type": "markdown",
   "metadata": {},
   "source": [
    "### Loading required Python packages"
   ]
  },
  {
   "cell_type": "code",
   "execution_count": 2,
   "metadata": {},
   "outputs": [],
   "source": [
    "import csv\n",
    "import matplotlib.pyplot as mp\n",
    "import pandas as pd\n",
    "import numpy as np\n",
    "import seaborn as sns"
   ]
  },
  {
   "cell_type": "markdown",
   "metadata": {},
   "source": [
    "### The function used for plotting bar graphs in general"
   ]
  },
  {
   "cell_type": "code",
   "execution_count": 3,
   "metadata": {},
   "outputs": [],
   "source": [
    "def bar_graph(xvals,yvals,name=None,yn=None,type=None):\n",
    "    if type==None:\n",
    "        mp.bar(xvals,yvals)\n",
    "    else:\n",
    "        mp.barh(xvals,yvals)\n",
    "    mp.grid(True)\n",
    "    if name!=None:\n",
    "        mp.title(name)\n",
    "    mp.show()\n",
    "    if yn!=None:\n",
    "        mp.axis(ymin=yn)"
   ]
  },
  {
   "cell_type": "markdown",
   "metadata": {},
   "source": [
    "### The function used to get dictionay data type from a list grouping each category with its count"
   ]
  },
  {
   "cell_type": "code",
   "execution_count": 4,
   "metadata": {},
   "outputs": [],
   "source": [
    "def get_dic_from_list(data):\n",
    "    x=list(set(data)) #contains categories of data\n",
    "    y=[] #contains count of each categories\n",
    "    for a in x:\n",
    "        y.append(data.count(a))\n",
    "    return x,y "
   ]
  },
  {
   "cell_type": "markdown",
   "metadata": {},
   "source": [
    "### The fucntion used to compare a list of players based on man of matches they have won"
   ]
  },
  {
   "cell_type": "code",
   "execution_count": 5,
   "metadata": {},
   "outputs": [],
   "source": [
    "def compare_players(play_list):\n",
    "    top_players = matches.ManOfMach.value_counts()\n",
    "    sns.barplot(x=x,y=[top_players[a] for a in x])"
   ]
  },
  {
   "cell_type": "code",
   "execution_count": 6,
   "metadata": {},
   "outputs": [],
   "source": [
    "players_data=open(\"Player.csv\",encoding='latin1') #players csv file and encoding is used because file doesn't belong to unicode"
   ]
  },
  {
   "cell_type": "code",
   "execution_count": 7,
   "metadata": {},
   "outputs": [],
   "source": [
    "#bats_data=csv.reader(bat_data)\n",
    "players_frame=pd.read_csv(players_data)#creating data frame from csv file"
   ]
  },
  {
   "cell_type": "code",
   "execution_count": 8,
   "metadata": {},
   "outputs": [],
   "source": [
    "#code to vialize count of left hand batsman vs right hand batsman\n",
    "hands_data=list(players_frame[\"Batting_hand\"])\n",
    "lh=hands_data.count(\"Left-hand bat\")\n",
    "rh=hands_data.count(\"Right-hand bat\")"
   ]
  },
  {
   "cell_type": "markdown",
   "metadata": {},
   "source": [
    "### Left-hand batsman count vs Right-hand batsman"
   ]
  },
  {
   "cell_type": "code",
   "execution_count": 9,
   "metadata": {},
   "outputs": [
    {
     "data": {
      "image/png": "[encoded data removed]",
      "text/plain": [
       "<Figure size 432x288 with 1 Axes>"
      ]
     },
     "metadata": {},
     "output_type": "display_data"
    }
   ],
   "source": [
    "bar_graph([\"left hand batsman\",\"Right hand batsman\"],[lh,rh],name=\"left hand batsman vs right hand batsman\") #bar graph which shows count of lb vs rbs"
   ]
  },
  {
   "cell_type": "code",
   "execution_count": 10,
   "metadata": {
    "scrolled": true
   },
   "outputs": [],
   "source": [
    "#code to vialize count of players from different countries\n",
    "countries_list=list(players_frame[\"Country_Name\"])\n",
    "countries_set=list(set(countries_list))\n"
   ]
  },
  {
   "cell_type": "code",
   "execution_count": 11,
   "metadata": {},
   "outputs": [],
   "source": [
    "county=[]#to store count of batsman wrt countries\n",
    "for x in countries_set:\n",
    "    county.append(countries_list.count(x))\n",
    "countries_count={x:y for x,y in zip(countries_set,county)}\n",
    "#print(countries_count)"
   ]
  },
  {
   "cell_type": "markdown",
   "metadata": {},
   "source": [
    "### How many players participated from each country?"
   ]
  },
  {
   "cell_type": "code",
   "execution_count": 12,
   "metadata": {},
   "outputs": [
    {
     "data": {
      "image/png": "[encoded data removed]",
      "text/plain": [
       "<Figure size 432x288 with 1 Axes>"
      ]
     },
     "metadata": {},
     "output_type": "display_data"
    }
   ],
   "source": [
    "#bar_graph(countries_count.keys(),countries_count.values(),name=\"players from different countries\")\n",
    "xvals,yvals=get_dic_from_list(countries_list)\n",
    "bar_graph(xvals,yvals,name=\"players from different countries\",type=\"h\")"
   ]
  },
  {
   "cell_type": "markdown",
   "metadata": {},
   "source": [
    "### How many bowlers are there belonging to different bowling skills?"
   ]
  },
  {
   "cell_type": "code",
   "execution_count": 13,
   "metadata": {},
   "outputs": [
    {
     "data": {
      "image/png": "[encoded data removed]",
      "text/plain": [
       "<Figure size 432x288 with 1 Axes>"
      ]
     },
     "metadata": {},
     "output_type": "display_data"
    }
   ],
   "source": [
    "bowl_data=players_frame[\"Bowling_skill\"]\n",
    "bowl_list=[]\n",
    "for x in bowl_data:\n",
    "    if str(x)!='nan':\n",
    "        x=x.replace('\\xa0', '')\n",
    "        bowl_list.append(x)\n",
    "bowl_set=list(set(bowl_list))\n",
    "xvals,yvals=get_dic_from_list(bowl_list)\n",
    "bar_graph(xvals,yvals,name=\"Bolwers with different bowling skill\",type=\"h\")"
   ]
  },
  {
   "cell_type": "code",
   "execution_count": 14,
   "metadata": {},
   "outputs": [],
   "source": [
    "#data reading from new ball_by_ball.csv\n",
    "balls_data=open(\"Ball_By_Ball.csv\")"
   ]
  },
  {
   "cell_type": "code",
   "execution_count": 15,
   "metadata": {},
   "outputs": [],
   "source": [
    "bd_frame=pd.read_csv(balls_data)#data frame containing ball-ball data"
   ]
  },
  {
   "cell_type": "code",
   "execution_count": 16,
   "metadata": {},
   "outputs": [],
   "source": [
    "#print(set(bd_frame[\"Ball_id\"]))"
   ]
  },
  {
   "cell_type": "code",
   "execution_count": 17,
   "metadata": {},
   "outputs": [],
   "source": [
    "#print(len(bd_frame))"
   ]
  },
  {
   "cell_type": "code",
   "execution_count": 18,
   "metadata": {},
   "outputs": [],
   "source": [
    "ball_count=[1,2,3,4,5,6]"
   ]
  },
  {
   "cell_type": "code",
   "execution_count": 19,
   "metadata": {},
   "outputs": [],
   "source": [
    "ball_runs=[0,0,0,0,0,0]\n",
    "ball_ids=list(bd_frame[\"Ball_id\"])"
   ]
  },
  {
   "cell_type": "code",
   "execution_count": 20,
   "metadata": {},
   "outputs": [],
   "source": [
    "runs=list(bd_frame[\"Runs_Scored\"])"
   ]
  },
  {
   "cell_type": "code",
   "execution_count": 21,
   "metadata": {},
   "outputs": [],
   "source": [
    "for i,x in enumerate(runs):\n",
    "    if ball_ids[i]<=6:\n",
    "        ball_runs[ball_ids[i]-1]+=x\n",
    "    #else:\n",
    "        #ball_runs[5]+=x\n",
    "#print(ball_runs)"
   ]
  },
  {
   "cell_type": "markdown",
   "metadata": {},
   "source": [
    "### How many run scored per ball in an over in whole ipl?"
   ]
  },
  {
   "cell_type": "code",
   "execution_count": 22,
   "metadata": {},
   "outputs": [
    {
     "data": {
      "image/png": "[encoded data removed]",
      "text/plain": [
       "<Figure size 432x288 with 1 Axes>"
      ]
     },
     "metadata": {},
     "output_type": "display_data"
    }
   ],
   "source": [
    "#bar_graph(ball_count,ball_runs,name=\"Total run scored in whole ipl per ball\",ymin=min(ball_runs)-1000)\n",
    "#bar graph to visualize total run scored in whole ipl per ball\n",
    "mp.bar(ball_count,ball_runs)\n",
    "mp.title(\"Total run scored in whole ipl per ball\")\n",
    "mp.ylim(min(ball_runs)-1000,max(ball_runs)+1000)\n",
    "mp.grid(True)\n",
    "mp.show()"
   ]
  },
  {
   "cell_type": "code",
   "execution_count": 23,
   "metadata": {},
   "outputs": [],
   "source": [
    "#bar plot to vialize different types of wickets\n",
    "wicket_type=[\"Caught\",\"Bowled\",\"Run_out\",\"LBW\",\"Stumped\",\"hit_wicket\"]"
   ]
  },
  {
   "cell_type": "code",
   "execution_count": 24,
   "metadata": {},
   "outputs": [],
   "source": [
    "wicket_count={}\n",
    "for x in wicket_type:\n",
    "    wicket_count[x]=sum(list(bd_frame[x]))"
   ]
  },
  {
   "cell_type": "code",
   "execution_count": 25,
   "metadata": {},
   "outputs": [
    {
     "name": "stdout",
     "output_type": "stream",
     "text": [
      "{'Stumped': 243, 'hit_wicket': 9, 'Run_out': 755, 'Caught': 4373, 'LBW': 455, 'Bowled': 1382}\n"
     ]
    }
   ],
   "source": [
    "print(wicket_count)"
   ]
  },
  {
   "cell_type": "markdown",
   "metadata": {},
   "source": [
    "### visualize different types of wickets_taken in whole ipl?"
   ]
  },
  {
   "cell_type": "code",
   "execution_count": 26,
   "metadata": {},
   "outputs": [
    {
     "data": {
      "image/png": "[encoded data removed]",
      "text/plain": [
       "<Figure size 432x288 with 1 Axes>"
      ]
     },
     "metadata": {},
     "output_type": "display_data"
    }
   ],
   "source": [
    "bar_graph(wicket_count.keys(),wicket_count.values(),name=\"Different categories of wicket taken in IPL\")"
   ]
  },
  {
   "cell_type": "code",
   "execution_count": 27,
   "metadata": {},
   "outputs": [
    {
     "data": {
      "image/png": "[encoded data removed]",
      "text/plain": [
       "<Figure size 432x288 with 1 Axes>"
      ]
     },
     "metadata": {},
     "output_type": "display_data"
    }
   ],
   "source": [
    "#code to visualize the wickets taken type using pie chart\n",
    "fig1, ax1 = mp.subplots()\n",
    "ax1.pie(wicket_count.values(),labels=wicket_count.keys(), autopct='%1.1f%%',startangle=90)\n",
    "ax1.axis('equal')  # Equal aspect ratio ensures that pie is drawn as a circle.\n",
    "mp.show()"
   ]
  },
  {
   "cell_type": "code",
   "execution_count": 28,
   "metadata": {},
   "outputs": [],
   "source": [
    "#using seaborn to vialize the ipl data\n",
    "sns.set_style(\"darkgrid\")\n",
    "mp.rcParams['figure.figsize']=(14,8)\n",
    "matches_data=open(\"Match.csv\")\n",
    "matches=pd.read_csv(matches_data)\n"
   ]
  },
  {
   "cell_type": "markdown",
   "metadata": {},
   "source": [
    "### How many matches we've got in the dataset?"
   ]
  },
  {
   "cell_type": "code",
   "execution_count": 29,
   "metadata": {},
   "outputs": [
    {
     "name": "stdout",
     "output_type": "stream",
     "text": [
      "(637, 17)\n"
     ]
    }
   ],
   "source": [
    "print(matches.shape)#to display the total number of rows and columns"
   ]
  },
  {
   "cell_type": "markdown",
   "metadata": {},
   "source": []
  },
  {
   "cell_type": "code",
   "execution_count": 30,
   "metadata": {},
   "outputs": [
    {
     "name": "stdout",
     "output_type": "stream",
     "text": [
      "<class 'pandas.core.frame.DataFrame'>\n",
      "Int64Index: 637 entries, 0 to 636\n",
      "Data columns (total 17 columns):\n",
      "Match_SK        637 non-null int64\n",
      "match_id        637 non-null int64\n",
      "Team1           637 non-null object\n",
      "Team2           637 non-null object\n",
      "match_date      637 non-null object\n",
      "Season_Year     637 non-null int64\n",
      "Venue_Name      636 non-null object\n",
      "City_Name       637 non-null object\n",
      "Country_Name    637 non-null object\n",
      "Toss_Winner     636 non-null object\n",
      "match_winner    634 non-null object\n",
      "Toss_Name       636 non-null object\n",
      "Win_Type        635 non-null object\n",
      "Outcome_Type    637 non-null object\n",
      "ManOfMach       633 non-null object\n",
      "Win_Margin      628 non-null float64\n",
      "Country_id      637 non-null int64\n",
      "dtypes: float64(1), int64(4), object(12)\n",
      "memory usage: 89.6+ KB\n",
      "None\n"
     ]
    }
   ],
   "source": [
    "print(matches.info())#to display the schema of the data set"
   ]
  },
  {
   "cell_type": "code",
   "execution_count": 31,
   "metadata": {},
   "outputs": [
    {
     "name": "stdout",
     "output_type": "stream",
     "text": [
      "         Match_SK        match_id  Season_Year  Win_Margin  Country_id\n",
      "count  637.000000      637.000000   637.000000  628.000000  637.000000\n",
      "mean   318.000000   637882.544741  2012.497645   17.272293    1.152276\n",
      "std    184.030342   235631.247375     2.776600   22.212632    0.438388\n",
      "min      0.000000   335987.000000  2008.000000    0.000000    1.000000\n",
      "25%    159.000000   419155.000000  2010.000000    6.000000    1.000000\n",
      "50%    318.000000   548383.000000  2012.000000    8.000000    1.000000\n",
      "75%    477.000000   829748.000000  2015.000000   20.000000    1.000000\n",
      "max    636.000000  1082650.000000  2017.000000  146.000000    3.000000\n"
     ]
    }
   ],
   "source": [
    "print(matches.describe())"
   ]
  },
  {
   "cell_type": "code",
   "execution_count": 32,
   "metadata": {},
   "outputs": [
    {
     "data": {
      "text/html": [
       "<div>\n",
       "<table border=\"1\" class=\"dataframe\">\n",
       "  <thead>\n",
       "    <tr style=\"text-align: right;\">\n",
       "      <th></th>\n",
       "      <th>Match_SK</th>\n",
       "      <th>match_id</th>\n",
       "      <th>Team1</th>\n",
       "      <th>Team2</th>\n",
       "      <th>match_date</th>\n",
       "      <th>Season_Year</th>\n",
       "      <th>Venue_Name</th>\n",
       "      <th>City_Name</th>\n",
       "      <th>Country_Name</th>\n",
       "      <th>Toss_Winner</th>\n",
       "      <th>match_winner</th>\n",
       "      <th>Toss_Name</th>\n",
       "      <th>Win_Type</th>\n",
       "      <th>Outcome_Type</th>\n",
       "      <th>ManOfMach</th>\n",
       "      <th>Win_Margin</th>\n",
       "      <th>Country_id</th>\n",
       "    </tr>\n",
       "  </thead>\n",
       "  <tbody>\n",
       "    <tr>\n",
       "      <th>0</th>\n",
       "      <td>0</td>\n",
       "      <td>335987</td>\n",
       "      <td>Royal Challengers Bangalore</td>\n",
       "      <td>Kolkata Knight Riders</td>\n",
       "      <td>4/18/2008</td>\n",
       "      <td>2008</td>\n",
       "      <td>M Chinnaswamy Stadium</td>\n",
       "      <td>Bangalore</td>\n",
       "      <td>India</td>\n",
       "      <td>Royal Challengers Bangalore</td>\n",
       "      <td>Kolkata Knight Riders</td>\n",
       "      <td>field</td>\n",
       "      <td>runs</td>\n",
       "      <td>Result</td>\n",
       "      <td>BB McCullum</td>\n",
       "      <td>140</td>\n",
       "      <td>1</td>\n",
       "    </tr>\n",
       "    <tr>\n",
       "      <th>1</th>\n",
       "      <td>1</td>\n",
       "      <td>335988</td>\n",
       "      <td>Kings XI Punjab</td>\n",
       "      <td>Chennai Super Kings</td>\n",
       "      <td>4/19/2008</td>\n",
       "      <td>2008</td>\n",
       "      <td>Punjab Cricket Association Stadium, Mohali</td>\n",
       "      <td>Chandigarh</td>\n",
       "      <td>India</td>\n",
       "      <td>Chennai Super Kings</td>\n",
       "      <td>Chennai Super Kings</td>\n",
       "      <td>bat</td>\n",
       "      <td>runs</td>\n",
       "      <td>Result</td>\n",
       "      <td>MEK Hussey</td>\n",
       "      <td>33</td>\n",
       "      <td>1</td>\n",
       "    </tr>\n",
       "    <tr>\n",
       "      <th>2</th>\n",
       "      <td>2</td>\n",
       "      <td>335989</td>\n",
       "      <td>Delhi Daredevils</td>\n",
       "      <td>Rajasthan Royals</td>\n",
       "      <td>4/19/2008</td>\n",
       "      <td>2008</td>\n",
       "      <td>Feroz Shah Kotla</td>\n",
       "      <td>Delhi</td>\n",
       "      <td>India</td>\n",
       "      <td>Rajasthan Royals</td>\n",
       "      <td>Delhi Daredevils</td>\n",
       "      <td>bat</td>\n",
       "      <td>wickets</td>\n",
       "      <td>Result</td>\n",
       "      <td>MF Maharoof</td>\n",
       "      <td>9</td>\n",
       "      <td>1</td>\n",
       "    </tr>\n",
       "    <tr>\n",
       "      <th>3</th>\n",
       "      <td>3</td>\n",
       "      <td>335990</td>\n",
       "      <td>Mumbai Indians</td>\n",
       "      <td>Royal Challengers Bangalore</td>\n",
       "      <td>4/20/2008</td>\n",
       "      <td>2008</td>\n",
       "      <td>Wankhede Stadium</td>\n",
       "      <td>Mumbai</td>\n",
       "      <td>India</td>\n",
       "      <td>Mumbai Indians</td>\n",
       "      <td>Royal Challengers Bangalore</td>\n",
       "      <td>bat</td>\n",
       "      <td>wickets</td>\n",
       "      <td>Result</td>\n",
       "      <td>MV Boucher</td>\n",
       "      <td>5</td>\n",
       "      <td>1</td>\n",
       "    </tr>\n",
       "    <tr>\n",
       "      <th>4</th>\n",
       "      <td>4</td>\n",
       "      <td>335991</td>\n",
       "      <td>Kolkata Knight Riders</td>\n",
       "      <td>Deccan Chargers</td>\n",
       "      <td>4/20/2008</td>\n",
       "      <td>2008</td>\n",
       "      <td>Eden Gardens</td>\n",
       "      <td>Kolkata</td>\n",
       "      <td>India</td>\n",
       "      <td>Deccan Chargers</td>\n",
       "      <td>Kolkata Knight Riders</td>\n",
       "      <td>bat</td>\n",
       "      <td>wickets</td>\n",
       "      <td>Result</td>\n",
       "      <td>DJ Hussey</td>\n",
       "      <td>5</td>\n",
       "      <td>1</td>\n",
       "    </tr>\n",
       "  </tbody>\n",
       "</table>\n",
       "</div>"
      ],
      "text/plain": [
       "   Match_SK  match_id                        Team1  \\\n",
       "0         0    335987  Royal Challengers Bangalore   \n",
       "1         1    335988              Kings XI Punjab   \n",
       "2         2    335989             Delhi Daredevils   \n",
       "3         3    335990               Mumbai Indians   \n",
       "4         4    335991        Kolkata Knight Riders   \n",
       "\n",
       "                         Team2 match_date  Season_Year  \\\n",
       "0        Kolkata Knight Riders  4/18/2008         2008   \n",
       "1          Chennai Super Kings  4/19/2008         2008   \n",
       "2             Rajasthan Royals  4/19/2008         2008   \n",
       "3  Royal Challengers Bangalore  4/20/2008         2008   \n",
       "4              Deccan Chargers  4/20/2008         2008   \n",
       "\n",
       "                                   Venue_Name   City_Name Country_Name  \\\n",
       "0                       M Chinnaswamy Stadium   Bangalore        India   \n",
       "1  Punjab Cricket Association Stadium, Mohali  Chandigarh        India   \n",
       "2                            Feroz Shah Kotla       Delhi        India   \n",
       "3                            Wankhede Stadium      Mumbai        India   \n",
       "4                                Eden Gardens     Kolkata        India   \n",
       "\n",
       "                   Toss_Winner                 match_winner Toss_Name  \\\n",
       "0  Royal Challengers Bangalore        Kolkata Knight Riders     field   \n",
       "1          Chennai Super Kings          Chennai Super Kings       bat   \n",
       "2             Rajasthan Royals             Delhi Daredevils       bat   \n",
       "3               Mumbai Indians  Royal Challengers Bangalore       bat   \n",
       "4              Deccan Chargers        Kolkata Knight Riders       bat   \n",
       "\n",
       "  Win_Type Outcome_Type    ManOfMach  Win_Margin  Country_id  \n",
       "0     runs       Result  BB McCullum         140           1  \n",
       "1     runs       Result   MEK Hussey          33           1  \n",
       "2  wickets       Result  MF Maharoof           9           1  \n",
       "3  wickets       Result   MV Boucher           5           1  \n",
       "4  wickets       Result    DJ Hussey           5           1  "
      ]
     },
     "execution_count": 32,
     "metadata": {},
     "output_type": "execute_result"
    }
   ],
   "source": [
    "matches.head(5)"
   ]
  },
  {
   "cell_type": "code",
   "execution_count": 33,
   "metadata": {},
   "outputs": [
    {
     "name": "stdout",
     "output_type": "stream",
     "text": [
      "Total matches played in IPL: 637\n"
     ]
    }
   ],
   "source": [
    "print(\"Total matches played in IPL:\",len(matches))"
   ]
  },
  {
   "cell_type": "markdown",
   "metadata": {},
   "source": [
    "### Which Team had won by maximum runs?"
   ]
  },
  {
   "cell_type": "code",
   "execution_count": 34,
   "metadata": {},
   "outputs": [
    {
     "name": "stdout",
     "output_type": "stream",
     "text": [
      "seasons: [2008 2009 2010 2011 2012 2013 2014 2015 2016 2017]\n"
     ]
    }
   ],
   "source": [
    "print(\"seasons:\",matches['Season_Year'].unique())"
   ]
  },
  {
   "cell_type": "markdown",
   "metadata": {},
   "source": [
    "### Which Team had won by maximum runs?"
   ]
  },
  {
   "cell_type": "code",
   "execution_count": 35,
   "metadata": {},
   "outputs": [
    {
     "name": "stdout",
     "output_type": "stream",
     "text": [
      "Match_SK                     621\n",
      "match_id                 1082635\n",
      "Team1           Delhi Daredevils\n",
      "Team2             Mumbai Indians\n",
      "match_date              5/6/2017\n",
      "Season_Year                 2017\n",
      "Venue_Name      Feroz Shah Kotla\n",
      "City_Name                  Delhi\n",
      "Country_Name               India\n",
      "Toss_Winner     Delhi Daredevils\n",
      "match_winner      Mumbai Indians\n",
      "Toss_Name                  Field\n",
      "Win_Type                    runs\n",
      "Outcome_Type              Result\n",
      "ManOfMach            LMP Simmons\n",
      "Win_Margin                   146\n",
      "Country_id                     1\n",
      "Name: 621, dtype: object\n"
     ]
    }
   ],
   "source": [
    "print(matches.iloc[matches['Win_Margin'].idxmax()])"
   ]
  },
  {
   "cell_type": "markdown",
   "metadata": {},
   "source": [
    "### Which season had most number of matches?"
   ]
  },
  {
   "cell_type": "code",
   "execution_count": 36,
   "metadata": {},
   "outputs": [
    {
     "data": {
      "image/png": "[encoded data removed]",
      "text/plain": [
       "<Figure size 1008x576 with 1 Axes>"
      ]
     },
     "metadata": {},
     "output_type": "display_data"
    }
   ],
   "source": [
    "#vializing the no.of matches played per season\n",
    "sns.countplot(x='Season_Year',data=matches)\n",
    "mp.show()"
   ]
  },
  {
   "cell_type": "markdown",
   "metadata": {},
   "source": [
    "### The most successful IPL Team"
   ]
  },
  {
   "cell_type": "code",
   "execution_count": 37,
   "metadata": {},
   "outputs": [
    {
     "data": {
      "image/png": "[encoded data removed]",
      "text/plain": [
       "<Figure size 1008x576 with 1 Axes>"
      ]
     },
     "metadata": {},
     "output_type": "display_data"
    }
   ],
   "source": [
    "#visualizing most number of matches won by team\n",
    "data = matches.match_winner.value_counts()\n",
    "sns.barplot(y = data.index, x = data, orient='h');"
   ]
  },
  {
   "cell_type": "markdown",
   "metadata": {},
   "source": [
    "### Has Toss-winning helped in Match-winning?"
   ]
  },
  {
   "cell_type": "code",
   "execution_count": 38,
   "metadata": {},
   "outputs": [
    {
     "data": {
      "text/plain": [
       "False    313\n",
       "True     324\n",
       "dtype: int64"
      ]
     },
     "execution_count": 38,
     "metadata": {},
     "output_type": "execute_result"
    }
   ],
   "source": [
    "#visualizing how winning toss helped winning match\n",
    "ss = matches['Toss_Winner'] == matches['match_winner']\n",
    "ss.groupby(ss).size()"
   ]
  },
  {
   "cell_type": "code",
   "execution_count": 39,
   "metadata": {},
   "outputs": [
    {
     "data": {
      "text/plain": [
       "<matplotlib.axes._subplots.AxesSubplot at 0x7fdefdf678d0>"
      ]
     },
     "execution_count": 39,
     "metadata": {},
     "output_type": "execute_result"
    },
    {
     "data": {
      "image/png": "[encoded data removed]",
      "text/plain": [
       "<Figure size 1008x576 with 1 Axes>"
      ]
     },
     "metadata": {},
     "output_type": "display_data"
    }
   ],
   "source": [
    "sns.countplot(ss)"
   ]
  },
  {
   "cell_type": "markdown",
   "metadata": {},
   "source": [
    "### Top player of the match Winners"
   ]
  },
  {
   "cell_type": "code",
   "execution_count": 40,
   "metadata": {
    "scrolled": false
   },
   "outputs": [
    {
     "data": {
      "image/png": "[encoded data removed]",
      "text/plain": [
       "<Figure size 1008x576 with 1 Axes>"
      ]
     },
     "metadata": {},
     "output_type": "display_data"
    },
    {
     "name": "stdout",
     "output_type": "stream",
     "text": [
      "CH Gayle          18\n",
      "YK Pathan         16\n",
      "DA Warner         15\n",
      "AB de Villiers    15\n",
      "RG Sharma         14\n",
      "SK Raina          14\n",
      "MS Dhoni          13\n",
      "G Gambhir         13\n",
      "AM Rahane         12\n",
      "MEK Hussey        12\n",
      "Name: ManOfMach, dtype: int64\n"
     ]
    }
   ],
   "source": [
    "#visualizing top players of match winners\n",
    "top_players = matches.ManOfMach.value_counts()[:10]\n",
    "fig, ax = mp.subplots()\n",
    "ax.set_ylim([0,20])\n",
    "ax.set_ylabel(\"Count\")\n",
    "ax.set_title(\"Top player of the match Winners\")\n",
    "#top_players.plot.bar()\n",
    "sns.barplot(x = top_players.index, y = top_players, orient='v'); #palette=\"Blues\");\n",
    "mp.show()\n",
    "print(top_players)"
   ]
  },
  {
   "cell_type": "markdown",
   "metadata": {},
   "source": [
    "### comparision of players based on the man of matches they have won"
   ]
  },
  {
   "cell_type": "code",
   "execution_count": 41,
   "metadata": {},
   "outputs": [
    {
     "data": {
      "image/png": "[encoded data removed]",
      "text/plain": [
       "<Figure size 1008x576 with 1 Axes>"
      ]
     },
     "metadata": {},
     "output_type": "display_data"
    }
   ],
   "source": [
    "x=['CH Gayle','YK Pathan','V Kohli']\n",
    "compare_players(x)"
   ]
  }
 ],
 "metadata": {
  "kernelspec": {
   "display_name": "Python 3",
   "language": "python",
   "name": "python3"
  },
  "language_info": {
   "codemirror_mode": {
    "name": "ipython",
    "version": 3
   },
   "file_extension": ".py",
   "mimetype": "text/x-python",
   "name": "python",
   "nbconvert_exporter": "python",
   "pygments_lexer": "ipython3",
   "version": "3.5.2"
  }
 },
 "nbformat": 4,
 "nbformat_minor": 2
}
